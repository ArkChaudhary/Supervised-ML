{
 "cells": [
  {
   "cell_type": "markdown",
   "metadata": {},
   "source": [
    "# Pokemon Legendary Classification - Exploratory Analysis\n",
    "\n",
    "This notebook provides an interactive environment for exploring the Pokemon dataset and running machine learning models for legendary classification.\n",
    "\n",
    "## Table of Contents\n",
    "1. [Setup and Imports](#setup)\n",
    "2. [Data Loading](#loading)\n",
    "3. [Exploratory Data Analysis](#eda)\n",
    "4. [Feature Engineering](#features)\n",
    "5. [Model Training](#training)\n",
    "6. [Results Analysis](#results)"
   ]
  },
  {
   "cell_type": "markdown",
   "metadata": {},
   "source": [
    "## 1. Setup and Imports {#setup}"
   ]
  },
  {
   "cell_type": "code",
   "execution_count": null,
   "metadata": {},
   "outputs": [],
   "source": [
    "# Standard imports\n",
    "import pandas as pd\n",
    "import numpy as np\n",
    "import matplotlib.pyplot as plt\n",
    "import seaborn as sns\n",
    "import warnings\n",
    "import logging\n",
    "from pathlib import Path\n",
    "\n",
    "# Suppress warnings for cleaner output\n",
    "warnings.simplefilter(action=\"ignore\")\n",
    "\n",
    "# Configure matplotlib for better plots\n",
    "plt.rcParams['figure.figsize'] = (12, 8)\n",
    "plt.rcParams['font.size'] = 12\n",
    "sns.set_style(\"whitegrid\")\n",
    "sns.set_palette(\"husl\")\n",
    "\n",
    "# Configure logging\n",
    "logging.basicConfig(level=logging.INFO, format='%(asctime)s - %(levelname)s - %(message)s')\n",
    "logger = logging.getLogger(__name__)\n",
    "\n",
    "print(\"Imports completed successfully!\")"
   ]
  },
  {
   "cell_type": "code",
   "execution_count": null,
   "metadata": {},
   "outputs": [],
   "source": [
    "# Import our custom modules\n",
    "import sys\n",
    "sys.path.append('../src')\n",
    "\n",
    "from eda import DataExplorer\n",
    "from feature_engineering import FeatureEngineer\n",
    "from model_trainer import ModelTrainer\n",
    "from main import run_pokemon_analysis\n",
    "\n",
    "print(\"Custom modules imported successfully!\")"
   ]
  },
  {
   "cell_type": "markdown",
   "metadata": {},
   "source": [
    "## 2. Data Loading {#loading}"
   ]
  },
  {
   "cell_type": "code",
   "execution_count": null,
   "metadata": {},
   "outputs": [],
   "source": [
    "# Load the Pokemon dataset\n",
    "data_path = \"../data/Pokemon.csv\"\n",
    "\n",
    "try:\n",
    "    df_raw = pd.read_csv(data_path)\n",
    "    print(f\"Dataset loaded successfully!\")\n",
    "    print(f\"Shape: {df_raw.shape}\")\n",
    "    print(f\"Columns: {list(df_raw.columns)}\")\n",
    "except FileNotFoundError:\n",
    "    print(f\"File not found: {data_path}\")\n",
    "    print(\"Please ensure Pokemon.csv is in the data/ directory\")"
   ]
  },
  {
   "cell_type": "code",
   "execution_count": null,
   "metadata": {},
   "outputs": [],
   "source": [
    "# Quick data preview\n",
    "display(df_raw.head())\n",
    "print(\"\\nData Info:\")\n",
    "df_raw.info()"
   ]
  },
  {
   "cell_type": "markdown",
   "metadata": {},
   "source": [
    "## 3. Exploratory Data Analysis {#eda}"
   ]
  },
  {
   "cell_type": "code",
   "execution_count": null,
   "metadata": {},
   "outputs": [],
   "source": [
    "# Run comprehensive EDA\n",
    "explorer = DataExplorer()\n",
    "explorer.explore_dataframe(df_raw, target='Legendary')"
   ]
  },
  {
   "cell_type": "markdown",
   "metadata": {},
   "source": [
    "### Custom Analysis"
   ]
  },
  {
   "cell_type": "code",
   "execution_count": null,
   "metadata": {},
   "outputs": [],
   "source": [
    "# Analyze legendary distribution by generation (if Generation column exists)\n",
    "if 'Generation' in df_raw.columns:\n",
    "    plt.figure(figsize=(12, 6))\n",
    "    legendary_by_gen = df_raw.groupby('Generation')['Legendary'].value_counts().unstack()\n",
    "    legendary_by_gen.plot(kind='bar', stacked=True)\n",
    "    plt.title('Legendary Pokemon Distribution by Generation')\n",
    "    plt.xlabel('Generation')\n",
    "    plt.ylabel('Count')\n",
    "    plt.legend(['Non-Legendary', 'Legendary'])\n",
    "    plt.xticks(rotation=0)\n",
    "    plt.tight_layout()\n",
    "    plt.show()"
   ]
  },
  {
   "cell_type": "code",
   "execution_count": null,
   "metadata": {},
   "outputs": [],
   "source": [
    "# Analyze stats distribution for legendary vs non-legendary\n",
    "stat_columns = ['HP', 'Attack', 'Defense', 'Sp. Atk', 'Sp. Def', 'Speed']\n",
    "available_stats = [col for col in stat_columns if col in df_raw.columns]\n",
    "\n",
    "if available_stats:\n",
    "    fig, axes = plt.subplots(2, 3, figsize=(18, 12))\n",
    "    axes = axes.flatten()\n",
    "    \n",
    "    for i, stat in enumerate(available_stats):\n",
    "        sns.boxplot(data=df_raw, x='Legendary', y=stat, ax=axes[i])\n",
    "        axes[i].set_title(f'{stat} Distribution')\n",
    "    \n",
    "    plt.tight_layout()\n",
    "    plt.show()"
   ]
  },
  {
   "cell_type": "markdown",
   "metadata": {},
   "source": [
    "## 4. Feature Engineering {#features}"
   ]
  },
  {
   "cell_type": "code",
   "execution_count": null,
   "metadata": {},
   "outputs": [],
   "source": [
    "# Initialize feature engineer\n",
    "engineer = FeatureEngineer()\n",
    "\n",
    "# Create enhanced features\n",
    "df_enhanced = engineer.create_statistical_features(df_raw)\n",
    "print(f\"Statistical features created!\")\n",
    "print(f\"Original columns: {len(df_raw.columns)}\")\n",
    "print(f\"Enhanced columns: {len(df_enhanced.columns)}\")\n",
    "print(f\"New features: {set(df_enhanced.columns) - set(df_raw.columns)}\")"
   ]
  },
  {
   "cell_type": "code",
   "execution_count": null,
   "metadata": {},
   "outputs": [],
   "source": [
    "# Prepare data for machine learning\n",
    "X_train, X_test, y_train, y_test = engineer.prepare_pokemon_data(\n",
    "    df_enhanced, \n",
    "    target_col='Legendary', \n",
    "    test_size=0.2, \n",
    "    random_state=42\n",
    ")\n",
    "\n",
    "print(f\"Data prepared for ML!\")\n",
    "print(f\"Training set: {X_train.shape}\")\n",
    "print(f\"Test set: {X_test.shape}\")\n",
    "print(f\"Feature columns: {list(X_train.columns)}\")"
   ]
  },
  {
   "cell_type": "markdown",
   "metadata": {},
   "source": [
    "## 5. Model Training {#training}"
   ]
  },
  {
   "cell_type": "code",
   "execution_count": null,
   "metadata": {},
   "outputs": [],
   "source": [
    "# Initialize model trainer\n",
    "trainer = ModelTrainer()\n",
    "\n",
    "# Train and evaluate all models\n",
    "results_df = trainer.train_and_evaluate_models(X_train, X_test, y_train, y_test)\n",
    "\n",
    "print(\"Model training completed!\")\n",
    "display(results_df.round(4))"
   ]
  },
  {
   "cell_type": "code",
   "execution_count": null,
   "metadata": {},
   "outputs": [],
   "source": [
    "# Visualize model performance\n",
    "trainer.visualize_results(results_df)"
   ]
  },
  {
   "cell_type": "code",
   "execution_count": null,
   "metadata": {},
   "outputs": [],
   "source": [
    "# Optimize KNN hyperparameters\n",
    "print(\"Optimizing KNN hyperparameters...\")\n",
    "best_knn_params = trainer.optimize_knn(X_train, y_train)\n",
    "print(f\"Best KNN parameters: {best_knn_params}\")"
   ]
  },
  {
   "cell_type": "markdown",
   "metadata": {},
   "source": [
    "## 6. Results Analysis {#results}"
   ]
  },
  {
   "cell_type": "code",
   "execution_count": null,
   "metadata": {},
   "outputs": [],
   "source": [
    "# Find best performing model\n",
    "best_model_name = results_df.loc[results_df['F1_Score'].idxmax(), 'Model']\n",
    "print(f\"Best performing model: {best_model_name}\")\n",
    "\n",
    "# Generate detailed classification report\n",
    "trainer.generate_classification_report(X_test, y_test, best_model_name)"
   ]
  },
  {
   "cell_type": "code",
   "execution_count": null,
   "metadata": {},
   "outputs": [],
   "source": [
    "# Feature importance analysis (for tree-based models)\n",
    "if 'Tree' in best_model_name or 'Forest' in best_model_name:\n",
    "    feature_importance = trainer.get_feature_importance(best_model_name, X_train.columns.tolist())\n",
    "    if not feature_importance.empty:\n",
    "        print(f\"\\nTop 10 Most Important Features ({best_model_name}):\")\n",
    "        display(feature_importance.head(10))\n",
    "else:\n",
    "    print(f\"Feature importance not available for {best_model_name}\")"
   ]
  },
  {
   "cell_type": "code",
   "execution_count": null,
   "metadata": {},
   "outputs": [],
   "source": [
    "# Save results\n",
    "output_path = \"../outputs/notebook_results.csv\"\n",
    "Path(\"../outputs\").mkdir(exist_ok=True)\n",
    "results_df.to_csv(output_path, index=False)\n",
    "print(f\"Results saved to {output_path}\")"
   ]
  },
  {
   "cell_type": "markdown",
   "metadata": {},
   "source": [
    "## Summary\n",
    "\n",
    "This notebook demonstrated:\n",
    "- Comprehensive exploratory data analysis of the Pokemon dataset\n",
    "- Feature engineering including type encoding and statistical features\n",
    "- Training and evaluation of multiple machine learning models\n",
    "- Performance comparison and model selection\n",
    "- Detailed analysis of the best performing model\n",
    "\n",
    "The modular structure allows for easy experimentation and extension of the analysis pipeline."
   ]
  }
 ],
 "metadata": {
  "kernelspec": {
   "display_name": "Python 3",
   "language": "python",
   "name": "python3"
  },
  "language_info": {
   "codemirror_mode": {
    "name": "ipython",
    "version": 3
   },
   "file_extension": ".py",
   "mimetype": "text/x-python",
   "name": "python",
   "nbconvert_exporter": "python",
   "pygments_lexer": "ipython3",
   "version": "3.10.11"
  }
 },
 "nbformat": 4,
 "nbformat_minor": 4
}
